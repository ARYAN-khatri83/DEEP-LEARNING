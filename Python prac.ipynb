{
 "cells": [
  {
   "cell_type": "markdown",
   "id": "02f647c4-d975-465f-9324-cc9180e3048c",
   "metadata": {},
   "source": [
    "#LAB-1 PYTHON PRACTICE ASSIGNMENTS"
   ]
  },
  {
   "cell_type": "markdown",
   "id": "aa776fb5-42ed-4c62-9938-d2e243c59f12",
   "metadata": {},
   "source": [
    "### 1. Check Whether a Number is ODD or EVEN\n"
   ]
  },
  {
   "cell_type": "code",
   "execution_count": 5,
   "id": "8b5097a6-2755-4e88-81c9-58cc1bde6e47",
   "metadata": {},
   "outputs": [
    {
     "name": "stdin",
     "output_type": "stream",
     "text": [
      "Enter a number:  20\n"
     ]
    },
    {
     "name": "stdout",
     "output_type": "stream",
     "text": [
      "20 is Even\n"
     ]
    }
   ],
   "source": [
    "def check_odd_even():\n",
    "    number = int(input(\"Enter a number: \"))\n",
    "    if number % 2 == 0:\n",
    "        print(f\"{number} is Even\")\n",
    "    else:\n",
    "        print(f\"{number} is Odd\")\n",
    "\n",
    "check_odd_even()\n"
   ]
  },
  {
   "cell_type": "markdown",
   "id": "b0ec1812-80eb-4d84-9b68-89747dbfc76f",
   "metadata": {},
   "source": [
    "### 2. Print Decimal Equivalents of 1/2, 1/3, ..., 1/10"
   ]
  },
  {
   "cell_type": "code",
   "execution_count": 10,
   "id": "9fcf4d91-0ad4-4d32-8cb0-a92a38da00f6",
   "metadata": {},
   "outputs": [
    {
     "name": "stdout",
     "output_type": "stream",
     "text": [
      "1/2 = 0.5000\n",
      "1/3 = 0.3333\n",
      "1/4 = 0.2500\n",
      "1/5 = 0.2000\n",
      "1/6 = 0.1667\n",
      "1/7 = 0.1429\n",
      "1/8 = 0.1250\n",
      "1/9 = 0.1111\n",
      "1/10 = 0.1000\n"
     ]
    }
   ],
   "source": [
    "def print_decimals():\n",
    "    for i in range(2, 11):\n",
    "        print(f\"1/{i} = {1/i:.4f}\")\n",
    "\n",
    "print_decimals()\n"
   ]
  },
  {
   "cell_type": "markdown",
   "id": "088b40a5-a9b4-4045-b206-3a6da1ffa616",
   "metadata": {},
   "source": [
    "### 3. Finding the Biggest Number Among 3 Numbers\n"
   ]
  },
  {
   "cell_type": "code",
   "execution_count": 13,
   "id": "4d7b96c0-49e8-4840-ab07-72bb3c10bff2",
   "metadata": {},
   "outputs": [
    {
     "name": "stdin",
     "output_type": "stream",
     "text": [
      "Enter first number:  20\n",
      "Enter second number:  12\n",
      "Enter third number:  13\n"
     ]
    },
    {
     "name": "stdout",
     "output_type": "stream",
     "text": [
      "The biggest number is: 20\n"
     ]
    }
   ],
   "source": [
    "def find_biggest_number(a, b, c):\n",
    "    return max(a, b, c)\n",
    "\n",
    "a = int(input(\"Enter first number: \"))\n",
    "b = int(input(\"Enter second number: \"))\n",
    "c = int(input(\"Enter third number: \"))\n",
    "print(\"The biggest number is:\", find_biggest_number(a, b, c))\n"
   ]
  },
  {
   "cell_type": "markdown",
   "id": "17619c26-5ce7-4bc5-b113-1ae27d2eca2a",
   "metadata": {},
   "source": [
    "### 4. Check if a Person is Eligible for Voting\n"
   ]
  },
  {
   "cell_type": "code",
   "execution_count": 16,
   "id": "57821aaf-a0ff-41c5-990c-c4782cdcd44f",
   "metadata": {},
   "outputs": [
    {
     "name": "stdin",
     "output_type": "stream",
     "text": [
      "Enter your age:  17\n"
     ]
    },
    {
     "name": "stdout",
     "output_type": "stream",
     "text": [
      "You are not eligible for voting.\n"
     ]
    }
   ],
   "source": [
    "def check_voting_eligibility():\n",
    "    age = int(input(\"Enter your age: \"))\n",
    "    if age >= 18:\n",
    "        print(\"You are eligible for voting.\")\n",
    "    else:\n",
    "        print(\"You are not eligible for voting.\")\n",
    "\n",
    "check_voting_eligibility()\n"
   ]
  },
  {
   "cell_type": "markdown",
   "id": "3b4a40e7-d214-4f51-a946-dbc452391396",
   "metadata": {},
   "source": [
    "### 5. Generate 10 Random Numbers and Find Their Sum\n"
   ]
  },
  {
   "cell_type": "code",
   "execution_count": 19,
   "id": "fe2ba202-3cab-4d77-918e-a6efcdf5a305",
   "metadata": {},
   "outputs": [
    {
     "name": "stdout",
     "output_type": "stream",
     "text": [
      "Random numbers: [99, 6, 91, 40, 20, 48, 43, 47, 65, 72]\n",
      "Sum of random numbers: 531\n"
     ]
    }
   ],
   "source": [
    "import random\n",
    "\n",
    "def generate_and_sum_random_numbers():\n",
    "    random_numbers = [random.randint(1, 100) for _ in range(10)]\n",
    "    total_sum = sum(random_numbers)\n",
    "    print(\"Random numbers:\", random_numbers)\n",
    "    print(\"Sum of random numbers:\", total_sum)\n",
    "\n",
    "generate_and_sum_random_numbers()\n"
   ]
  },
  {
   "cell_type": "markdown",
   "id": "466b924e-97a8-4d35-bbdd-89aada27cb9d",
   "metadata": {},
   "source": [
    "### 6. Finding the Sum and Average of Given Numbers Using Lists\n"
   ]
  },
  {
   "cell_type": "code",
   "execution_count": 22,
   "id": "008c7e1f-0b77-4622-8535-375ea679af74",
   "metadata": {},
   "outputs": [
    {
     "name": "stdout",
     "output_type": "stream",
     "text": [
      "Sum: 150\n",
      "Average: 30.0\n"
     ]
    }
   ],
   "source": [
    "def sum_and_average(numbers):\n",
    "    total_sum = sum(numbers)\n",
    "    average = total_sum / len(numbers)\n",
    "    return total_sum, average\n",
    "\n",
    "numbers = [10, 20, 30, 40, 50]\n",
    "total_sum, average = sum_and_average(numbers)\n",
    "print(\"Sum:\", total_sum)\n",
    "print(\"Average:\", average)\n"
   ]
  },
  {
   "cell_type": "markdown",
   "id": "c3bee887-0d07-46d9-ac94-7b523cae5d32",
   "metadata": {},
   "source": [
    "### 7. Display Elements of List in Reverse Order\n"
   ]
  },
  {
   "cell_type": "code",
   "execution_count": 25,
   "id": "0cc9f6ad-4493-46b4-b44d-183cb3cc602a",
   "metadata": {},
   "outputs": [
    {
     "name": "stdout",
     "output_type": "stream",
     "text": [
      "Reversed list: [5, 4, 3, 2, 1]\n"
     ]
    }
   ],
   "source": [
    "def display_reverse(lst):\n",
    "    reversed_lst = lst[::-1]\n",
    "    print(\"Reversed list:\", reversed_lst)\n",
    "\n",
    "numbers = [1, 2, 3, 4, 5]\n",
    "display_reverse(numbers)\n",
    "\n"
   ]
  },
  {
   "cell_type": "markdown",
   "id": "b7cf4415-2fed-4d86-89ca-35cb5a56659a",
   "metadata": {},
   "source": [
    "### 8. Finding the Minimum and Maximum Elements in Lists\n"
   ]
  },
  {
   "cell_type": "code",
   "execution_count": 30,
   "id": "4f6b2e4b-73d6-491e-884e-e8a7a0afc344",
   "metadata": {},
   "outputs": [
    {
     "name": "stdout",
     "output_type": "stream",
     "text": [
      "Minimum: 1\n",
      "Maximum: 9\n"
     ]
    }
   ],
   "source": [
    "def find_min_max(lst):\n",
    "    if not lst:\n",
    "        return None, None\n",
    "    return min(lst), max(lst)\n",
    "\n",
    "numbers = [4, 2, 9, 7, 5, 6, 1, 3, 8]\n",
    "minimum, maximum = find_min_max(numbers)\n",
    "print(\"Minimum:\", minimum)\n",
    "print(\"Maximum:\", maximum)\n"
   ]
  },
  {
   "cell_type": "markdown",
   "id": "8c8099ca-a6ba-4f90-828a-8ed225dc2d6f",
   "metadata": {},
   "source": [
    "### 9. Check if a Given String is a Palindrome"
   ]
  },
  {
   "cell_type": "code",
   "execution_count": 33,
   "id": "0fc8dc19-d5b2-4915-a07e-6caf8cee7f80",
   "metadata": {},
   "outputs": [
    {
     "name": "stdout",
     "output_type": "stream",
     "text": [
      "Is \"radar\" a palindrome? True\n"
     ]
    }
   ],
   "source": [
    "def is_palindrome(s):\n",
    "    return s == s[::-1]\n",
    "\n",
    "string = \"radar\"\n",
    "print(f'Is \"{string}\" a palindrome?', is_palindrome(string))\n"
   ]
  },
  {
   "cell_type": "markdown",
   "id": "f4bf24a1-fcf9-4787-891c-93c38f9547d9",
   "metadata": {},
   "source": [
    "### 10.Find the Number of Characters, Vowels, and Blank Spaces in a Line of Text"
   ]
  },
  {
   "cell_type": "code",
   "execution_count": 36,
   "id": "363fa953-87d9-4031-8261-acca8af3a9dd",
   "metadata": {},
   "outputs": [
    {
     "name": "stdout",
     "output_type": "stream",
     "text": [
      "Characters: 11\n",
      "Vowels: 3\n",
      "Spaces: 1\n"
     ]
    }
   ],
   "source": [
    "def text_analysis(text):\n",
    "    num_chars = len(text)\n",
    "    num_vowels = sum(1 for char in text if char.lower() in 'aeiou')\n",
    "    num_spaces = text.count(' ')\n",
    "    return num_chars, num_vowels, num_spaces\n",
    "\n",
    "# Example usage\n",
    "text = \"Hello world\"\n",
    "chars, vowels, spaces = text_analysis(text)\n",
    "print(\"Characters:\", chars)\n",
    "print(\"Vowels:\", vowels)\n",
    "print(\"Spaces:\", spaces)\n"
   ]
  },
  {
   "cell_type": "markdown",
   "id": "35fd4248-55c1-43ce-9705-273fbe10e73f",
   "metadata": {},
   "source": [
    "## 11.Function to Find the Maximum of Three Numbers"
   ]
  },
  {
   "cell_type": "code",
   "execution_count": 39,
   "id": "1fd19131-a7e6-4143-a151-c952915f7872",
   "metadata": {},
   "outputs": [
    {
     "name": "stdout",
     "output_type": "stream",
     "text": [
      "Maximum of 3, 7, 5 is: 7\n"
     ]
    }
   ],
   "source": [
    "def max_of_three(a, b, c):\n",
    "    return max(a, b, c)\n",
    "\n",
    "print(\"Maximum of 3, 7, 5 is:\", max_of_three(3, 7, 5))\n"
   ]
  },
  {
   "cell_type": "markdown",
   "id": "45e48315-a706-4795-8ba4-65765fbe7d54",
   "metadata": {},
   "source": [
    "## 12. Display Numbers Divisible by 7 but Not Multiple of 5 Between 1000 and 2000"
   ]
  },
  {
   "cell_type": "code",
   "execution_count": 42,
   "id": "7837269d-c9b1-48f7-90dc-6e19e06ab7fb",
   "metadata": {},
   "outputs": [
    {
     "name": "stdout",
     "output_type": "stream",
     "text": [
      "Numbers divisible by 7 but not multiple of 5 between 1000 and 2000 are: [1001, 1008, 1022, 1029, 1036, 1043, 1057, 1064, 1071, 1078, 1092, 1099, 1106, 1113, 1127, 1134, 1141, 1148, 1162, 1169, 1176, 1183, 1197, 1204, 1211, 1218, 1232, 1239, 1246, 1253, 1267, 1274, 1281, 1288, 1302, 1309, 1316, 1323, 1337, 1344, 1351, 1358, 1372, 1379, 1386, 1393, 1407, 1414, 1421, 1428, 1442, 1449, 1456, 1463, 1477, 1484, 1491, 1498, 1512, 1519, 1526, 1533, 1547, 1554, 1561, 1568, 1582, 1589, 1596, 1603, 1617, 1624, 1631, 1638, 1652, 1659, 1666, 1673, 1687, 1694, 1701, 1708, 1722, 1729, 1736, 1743, 1757, 1764, 1771, 1778, 1792, 1799, 1806, 1813, 1827, 1834, 1841, 1848, 1862, 1869, 1876, 1883, 1897, 1904, 1911, 1918, 1932, 1939, 1946, 1953, 1967, 1974, 1981, 1988]\n"
     ]
    }
   ],
   "source": [
    "def find_special_numbers():\n",
    "    result = [i for i in range(1000, 2001) if i % 7 == 0 and i % 5 != 0]\n",
    "    return result\n",
    "\n",
    "special_numbers = find_special_numbers()\n",
    "print(\"Numbers divisible by 7 but not multiple of 5 between 1000 and 2000 are:\", special_numbers)\n"
   ]
  },
  {
   "cell_type": "markdown",
   "id": "6a406833-66a6-40e1-8d2c-13d51ea50adb",
   "metadata": {},
   "source": [
    "## 13. Display File Contents"
   ]
  },
  {
   "cell_type": "code",
   "execution_count": 45,
   "id": "65b8e36e-06a8-4f5d-bfdd-98749653db30",
   "metadata": {},
   "outputs": [],
   "source": [
    "def display_file_contents(file_path):\n",
    "    with open(file_path, 'r') as file:\n",
    "        contents = file.read()\n",
    "    print(contents)\n",
    "\n",
    "\n",
    "# display_file_contents('example.txt')\n"
   ]
  },
  {
   "cell_type": "markdown",
   "id": "14649b9c-f778-46ad-b45c-fda61aacf44d",
   "metadata": {},
   "source": [
    "## 14. Copy File Contents from One File to Another"
   ]
  },
  {
   "cell_type": "code",
   "execution_count": 48,
   "id": "780c0b77-077c-4980-84f1-ea4799ebf207",
   "metadata": {},
   "outputs": [],
   "source": [
    "def copy_file_contents(source_file, destination_file):\n",
    "    with open(source_file, 'r') as src:\n",
    "        contents = src.read()\n",
    "    with open(destination_file, 'w') as dest:\n",
    "        dest.write(contents)\n",
    "\n",
    "\n",
    "# copy_file_contents('source.txt', 'destination.txt')\n"
   ]
  },
  {
   "cell_type": "markdown",
   "id": "51952118-2e87-4410-909c-689b91b51cbe",
   "metadata": {},
   "source": [
    "## 15. Find Simple Interest"
   ]
  },
  {
   "cell_type": "code",
   "execution_count": 53,
   "id": "542e2175-58ff-4206-8e28-8559b832c054",
   "metadata": {},
   "outputs": [
    {
     "name": "stdout",
     "output_type": "stream",
     "text": [
      "Simple Interest is: 100.0\n"
     ]
    }
   ],
   "source": [
    "def simple_interest(principal, rate, time):\n",
    "    return (principal * rate * time) / 100\n",
    " \n",
    "print(\"Simple Interest is:\", simple_interest(1000, 5, 2))\n"
   ]
  },
  {
   "cell_type": "markdown",
   "id": "2d19587f-c529-433e-91f6-eaeb7a40cce0",
   "metadata": {},
   "source": [
    "## 16. Find Distance Between Two Points"
   ]
  },
  {
   "cell_type": "code",
   "execution_count": 58,
   "id": "14c874e9-c428-4388-a6bc-ceac3d010bf2",
   "metadata": {},
   "outputs": [
    {
     "name": "stdout",
     "output_type": "stream",
     "text": [
      "Distance between points (1, 2) and (4, 6) is: 5.0\n"
     ]
    }
   ],
   "source": [
    "import math\n",
    "\n",
    "def distance(x1, y1, x2, y2):\n",
    "    return math.sqrt((x2 - x1)**2 + (y2 - y1)**2)\n",
    "\n",
    "\n",
    "print(\"Distance between points (1, 2) and (4, 6) is:\", distance(1, 2, 4, 6))\n"
   ]
  },
  {
   "cell_type": "markdown",
   "id": "85beaa5d-5892-47ed-b2bc-f17d6f38dc0e",
   "metadata": {},
   "source": [
    "## 17. Find Roots of Quadratic Equation"
   ]
  },
  {
   "cell_type": "code",
   "execution_count": 61,
   "id": "ce37ddc7-0656-443a-87b9-3fc6728de389",
   "metadata": {},
   "outputs": [
    {
     "name": "stdout",
     "output_type": "stream",
     "text": [
      "Roots of the equation are: (4.0, 3.0)\n"
     ]
    }
   ],
   "source": [
    "import math\n",
    "\n",
    "def find_roots(a, b, c):\n",
    "    discriminant = b**2 - 4*a*c\n",
    "    if discriminant > 0:\n",
    "        root1 = (-b + math.sqrt(discriminant)) / (2*a)\n",
    "        root2 = (-b - math.sqrt(discriminant)) / (2*a)\n",
    "        return root1, root2\n",
    "    elif discriminant == 0:\n",
    "        root = -b / (2*a)\n",
    "        return root, root\n",
    "    else:\n",
    "        real_part = -b / (2*a)\n",
    "        imaginary_part = math.sqrt(-discriminant) / (2*a)\n",
    "        return (real_part + imaginary_part*1j, real_part - imaginary_part*1j)\n",
    "\n",
    "\n",
    "roots = find_roots(1, -7, 12)\n",
    "print(\"Roots of the equation are:\", roots)\n"
   ]
  },
  {
   "cell_type": "code",
   "execution_count": null,
   "id": "45a59ab7-5e34-45f4-a427-2a9803212193",
   "metadata": {},
   "outputs": [],
   "source": []
  }
 ],
 "metadata": {
  "kernelspec": {
   "display_name": "Python 3 (ipykernel)",
   "language": "python",
   "name": "python3"
  },
  "language_info": {
   "codemirror_mode": {
    "name": "ipython",
    "version": 3
   },
   "file_extension": ".py",
   "mimetype": "text/x-python",
   "name": "python",
   "nbconvert_exporter": "python",
   "pygments_lexer": "ipython3",
   "version": "3.11.9"
  }
 },
 "nbformat": 4,
 "nbformat_minor": 5
}
